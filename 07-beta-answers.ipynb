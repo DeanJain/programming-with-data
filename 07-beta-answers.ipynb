{
 "cells": [
  {
   "cell_type": "markdown",
   "metadata": {},
   "source": [
    "Enplus Advisors, Inc."
   ]
  },
  {
   "cell_type": "markdown",
   "metadata": {},
   "source": [
    "This module uses:\n",
    "* SP500 returns\n",
    "* Security prices"
   ]
  },
  {
   "cell_type": "code",
   "execution_count": 1,
   "metadata": {
    "collapsed": true
   },
   "outputs": [],
   "source": [
    "import numpy as np\n",
    "import pandas as pd\n",
    "import statsmodels.api as sm"
   ]
  },
  {
   "cell_type": "code",
   "execution_count": 2,
   "metadata": {
    "collapsed": false
   },
   "outputs": [],
   "source": [
    "sp5_df = pd.read_csv('sp500.csv', usecols=['date', 'adj_close'], parse_dates=['date'])\n",
    "prices = pd.read_csv('prices.csv', parse_dates=['date'])"
   ]
  },
  {
   "cell_type": "markdown",
   "metadata": {},
   "source": [
    "**Exercise:**\n",
    "\n",
    "Merge the SP5 and security prices DataFrames, sorting by date ascending."
   ]
  },
  {
   "cell_type": "code",
   "execution_count": 3,
   "metadata": {
    "collapsed": false
   },
   "outputs": [],
   "source": [
    "prc = pd.merge(sp5_df.rename(columns={'adj_close':'SP5'}), prices, on='date')\n",
    "prc = prc.sort_values('date').reset_index(drop=True)"
   ]
  },
  {
   "cell_type": "markdown",
   "metadata": {},
   "source": [
    "**Exercise:**\n",
    "\n",
    "Calculate the beta of each stock to the SP500 using daily returns."
   ]
  },
  {
   "cell_type": "code",
   "execution_count": 4,
   "metadata": {
    "collapsed": false
   },
   "outputs": [],
   "source": [
    "rtn1d = prc.set_index('date').pct_change().dropna()"
   ]
  },
  {
   "cell_type": "code",
   "execution_count": 5,
   "metadata": {
    "collapsed": false
   },
   "outputs": [],
   "source": [
    "def beta(y, X):\n",
    "    mm = sm.add_constant(X)\n",
    "    model = sm.OLS(y, mm).fit()\n",
    "    return model.params[1]\n",
    "\n",
    "def beta_df(df, y_col):\n",
    "    \n",
    "    y_idx = list(df.columns).index(y_col)\n",
    "    x_cols = [(i, col) for i, col in enumerate(df.columns) if col != y_col]\n",
    "    \n",
    "    def calc_beta_df(X):\n",
    "        if isinstance(X, pd.DataFrame):\n",
    "            X = X.values\n",
    "        res = {}\n",
    "        for i, col in x_cols:\n",
    "            res[col] = beta(X[:, y_idx], X[:, i])\n",
    "        return res\n",
    "        \n",
    "    return calc_beta_df\n",
    "\n",
    "betas = beta_df(rtn1d, 'SP5')(rtn1d)"
   ]
  },
  {
   "cell_type": "code",
   "execution_count": 6,
   "metadata": {
    "collapsed": false
   },
   "outputs": [],
   "source": [
    "def beta_df_series(df, y):\n",
    "    x_cols = [x for x in df.columns]\n",
    "    \n",
    "    def calc_beta_df(_df):\n",
    "        res = {}\n",
    "        xx, yy = _df.align(y, join='left', axis=0)\n",
    "        for i, col in enumerate(x_cols):\n",
    "            res[col] = beta(yy, xx.iloc[:, i])\n",
    "        return res\n",
    "\n",
    "def beta_df(df, y_col):\n",
    "    \n",
    "    y_idx = list(df.columns).index(y_col)\n",
    "    x_cols = [(i, col) for i, col in enumerate(df.columns) if col != y_col]\n",
    "    \n",
    "    def calc_beta_df(X):\n",
    "        res = {}\n",
    "        for i, col in x_cols:\n",
    "            res[col] = beta(X[:, y_idx], X[:, i])\n",
    "        return res\n",
    "        \n",
    "    return calc_beta_df"
   ]
  },
  {
   "cell_type": "code",
   "execution_count": 7,
   "metadata": {
    "collapsed": false
   },
   "outputs": [
    {
     "data": {
      "text/plain": [
       "{'AAPL': 0.18791291684658051,\n",
       " 'IBM': 0.40810976160782042,\n",
       " 'MSFT': 0.38030797373942565}"
      ]
     },
     "execution_count": 7,
     "metadata": {},
     "output_type": "execute_result"
    }
   ],
   "source": [
    "beta_df(rtn1d, 'SP5')(rtn1d.values)"
   ]
  },
  {
   "cell_type": "markdown",
   "metadata": {},
   "source": [
    "**Exercise:**\n",
    "\n",
    "Calculate the rolling 90-day beta for each stock."
   ]
  },
  {
   "cell_type": "code",
   "execution_count": 8,
   "metadata": {
    "collapsed": true
   },
   "outputs": [],
   "source": [
    "def rolling_beta(y, X):\n",
    "    xx, yy = X.align(y, join='left')\n",
    "    return beta(yy, xx)"
   ]
  },
  {
   "cell_type": "code",
   "execution_count": 9,
   "metadata": {
    "collapsed": false
   },
   "outputs": [],
   "source": [
    "_calc_beta = beta_df(rtn1d, 'SP5')\n",
    "grp = rtn1d.rolling(window=90,min_periods=90)"
   ]
  }
 ],
 "metadata": {
  "kernelspec": {
   "display_name": "Python 3",
   "language": "python",
   "name": "python3"
  },
  "language_info": {
   "codemirror_mode": {
    "name": "ipython",
    "version": 3
   },
   "file_extension": ".py",
   "mimetype": "text/x-python",
   "name": "python",
   "nbconvert_exporter": "python",
   "pygments_lexer": "ipython3",
   "version": "3.5.1"
  }
 },
 "nbformat": 4,
 "nbformat_minor": 0
}
