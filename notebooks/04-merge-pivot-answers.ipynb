{
 "cells": [
  {
   "cell_type": "markdown",
   "metadata": {},
   "source": [
    "(c) 2016 - present. Enplus Advisors, Inc."
   ]
  },
  {
   "cell_type": "code",
   "execution_count": 1,
   "metadata": {
    "collapsed": true
   },
   "outputs": [],
   "source": [
    "import numpy as np\n",
    "import pandas as pd"
   ]
  },
  {
   "cell_type": "code",
   "execution_count": 2,
   "metadata": {
    "collapsed": false
   },
   "outputs": [],
   "source": [
    "dat = pd.read_csv('starmine.csv', parse_dates=['date'])\n",
    "dat = dat.set_index(['date', 'symbol'], verify_integrity=True).sort_index()"
   ]
  },
  {
   "cell_type": "code",
   "execution_count": 3,
   "metadata": {
    "collapsed": false
   },
   "outputs": [],
   "source": [
    "sp5 = pd.read_csv('sp500.csv', parse_dates=['date'], index_col=['date']).sort_index()"
   ]
  },
  {
   "cell_type": "markdown",
   "metadata": {
    "collapsed": false
   },
   "source": [
    "**Exercise:**\n",
    "\n",
    "Create a DataFrame of `smi`s where each record is a date security\n",
    "has a column."
   ]
  },
  {
   "cell_type": "code",
   "execution_count": 10,
   "metadata": {
    "collapsed": false
   },
   "outputs": [],
   "source": [
    "smi_orig = dat.loc[:, ['smi']].sort_index(axis=1)\n",
    "smi_m = smi_orig.unstack('symbol')"
   ]
  },
  {
   "cell_type": "markdown",
   "metadata": {},
   "source": [
    "**Exercise:**\n",
    "\n",
    "Convert the DataFrame back to a long format."
   ]
  },
  {
   "cell_type": "code",
   "execution_count": 11,
   "metadata": {
    "collapsed": false
   },
   "outputs": [],
   "source": [
    "smi_long = smi_m.stack('symbol', dropna=False)"
   ]
  },
  {
   "cell_type": "markdown",
   "metadata": {},
   "source": [
    "**Exercise:**\n",
    "* Is stacking always a reversible operation? Why or why not?\n",
    "* Show that `smi_orig` and `smi_long` have the same information.\n"
   ]
  },
  {
   "cell_type": "code",
   "execution_count": 12,
   "metadata": {
    "collapsed": false
   },
   "outputs": [
    {
     "data": {
      "text/plain": [
       "((33946, 1), (27594, 1))"
      ]
     },
     "execution_count": 12,
     "metadata": {},
     "output_type": "execute_result"
    }
   ],
   "source": [
    "smi_long.shape, smi_orig.shape"
   ]
  },
  {
   "cell_type": "code",
   "execution_count": 13,
   "metadata": {
    "collapsed": false
   },
   "outputs": [],
   "source": [
    "# Reindex smi_long using `smi_orig` index. This is\n",
    "# equivalent to a left join. Then compare for equality,\n",
    "# testing NAs\n",
    "smi_long_ri = smi_long.reindex(smi_orig.index)\n",
    "assert smi_orig.equals(smi_long_ri)"
   ]
  },
  {
   "cell_type": "markdown",
   "metadata": {},
   "source": [
    "**Exercise:**\n",
    "    \n",
    "Merge the SP500 adjusted close into the Starmine dataset."
   ]
  },
  {
   "cell_type": "code",
   "execution_count": 14,
   "metadata": {
    "collapsed": false
   },
   "outputs": [],
   "source": [
    "sp5_mnth = sp5.loc[:, ['adj_close']].resample('BM').last()\n",
    "sp5_mnth['sp5_ret_1_0_m'] = sp5_mnth.adj_close.pct_change()\n",
    "sp5_mnth['symbol'] = 'SP500'"
   ]
  },
  {
   "cell_type": "code",
   "execution_count": 15,
   "metadata": {
    "collapsed": false
   },
   "outputs": [
    {
     "data": {
      "text/plain": [
       "id                            0\n",
       "name                          0\n",
       "country                       0\n",
       "sector                        0\n",
       "sec                         106\n",
       "ind                         106\n",
       "size                         11\n",
       "smi                        7855\n",
       "liq                       14313\n",
       "ret_0_1_m                   191\n",
       "ret_0_6_m                   180\n",
       "ret_1_0_m                   271\n",
       "ret_6_0_m                   271\n",
       "ret_12_0_m                  252\n",
       "mn_dollar_volume_20_d       470\n",
       "md_dollar_volume_120_d      470\n",
       "cap_usd                      11\n",
       "cap                         299\n",
       "sales                        28\n",
       "net_income                   28\n",
       "common_equity                32\n",
       "adj_close                  5154\n",
       "dtype: int64"
      ]
     },
     "execution_count": 15,
     "metadata": {},
     "output_type": "execute_result"
    }
   ],
   "source": [
    "dat1 = dat.join(sp5_mnth.loc[:, ['adj_close']])\n",
    "dat1.isnull().sum()"
   ]
  }
 ],
 "metadata": {
  "kernelspec": {
   "display_name": "Python 3",
   "language": "python",
   "name": "python3"
  },
  "language_info": {
   "codemirror_mode": {
    "name": "ipython",
    "version": 3
   },
   "file_extension": ".py",
   "mimetype": "text/x-python",
   "name": "python",
   "nbconvert_exporter": "python",
   "pygments_lexer": "ipython3",
   "version": "3.5.1"
  }
 },
 "nbformat": 4,
 "nbformat_minor": 0
}
