{
 "cells": [
  {
   "cell_type": "markdown",
   "metadata": {},
   "source": [
    "(c) 2016 - present. Enplus Advisors, Inc."
   ]
  },
  {
   "cell_type": "markdown",
   "metadata": {},
   "source": [
    "This module uses:\n",
    "* SP500 returns\n",
    "* Security prices"
   ]
  },
  {
   "cell_type": "code",
   "execution_count": 1,
   "metadata": {
    "collapsed": true
   },
   "outputs": [],
   "source": [
    "from datetime import datetime\n",
    "\n",
    "import dateutil\n",
    "import numpy as np\n",
    "import pandas as pd"
   ]
  },
  {
   "cell_type": "code",
   "execution_count": 2,
   "metadata": {
    "collapsed": false
   },
   "outputs": [],
   "source": [
    "sp5_df = pd.read_csv('sp500.csv', usecols=['date', 'adj_close'])\n",
    "sp5_dts = pd.to_datetime(sp5_df.date)"
   ]
  },
  {
   "cell_type": "code",
   "execution_count": 3,
   "metadata": {
    "collapsed": true
   },
   "outputs": [],
   "source": [
    "prices = pd.read_csv('prices.csv', parse_dates=['date'])\n",
    "prices = prices.set_index('date', verify_integrity=True).sort_index()"
   ]
  },
  {
   "cell_type": "markdown",
   "metadata": {},
   "source": [
    "**Exercise:**\n",
    "\n",
    "Create a `pandas` Timestamp for January 1st, 1993 4:00 PM."
   ]
  },
  {
   "cell_type": "code",
   "execution_count": 4,
   "metadata": {
    "collapsed": true
   },
   "outputs": [],
   "source": [
    "ts = pd.Timestamp('1993-01-01 00:16:00')"
   ]
  },
  {
   "cell_type": "markdown",
   "metadata": {},
   "source": [
    "**Exercise:**\n",
    "\n",
    "Generate a an Index of:\n",
    "* 500 calendar days starting on January 01, 2010.\n",
    "* 1 year of US business days starting on January 01, 2010"
   ]
  },
  {
   "cell_type": "code",
   "execution_count": 5,
   "metadata": {
    "collapsed": true
   },
   "outputs": [],
   "source": [
    "cd500 = pd.date_range(start='2010-01-01', periods=500, freq='D')"
   ]
  },
  {
   "cell_type": "code",
   "execution_count": 6,
   "metadata": {
    "collapsed": false
   },
   "outputs": [],
   "source": [
    "bd2010 = pd.date_range(start='2010-01-01', end='2010-12-31', freq='B')"
   ]
  },
  {
   "cell_type": "markdown",
   "metadata": {},
   "source": [
    "**Exercise:**\n",
    "\n",
    "* Create a Series from the `adj_close` column `sp5_df`, using `date` as a `DatetimeIndex`\n",
    "* Sort the index\n"
   ]
  },
  {
   "cell_type": "code",
   "execution_count": 7,
   "metadata": {
    "collapsed": false
   },
   "outputs": [],
   "source": [
    "sp5 = pd.Series(sp5_df.adj_close.values, index=sp5_dts, name='adj_close').sort_index()"
   ]
  },
  {
   "cell_type": "markdown",
   "metadata": {},
   "source": [
    "**Exercise:**\n",
    "\n",
    "Write 3 different ways to select January 2, 1995 from the `sp5` series."
   ]
  },
  {
   "cell_type": "code",
   "execution_count": 8,
   "metadata": {
    "collapsed": false
   },
   "outputs": [],
   "source": [
    "d1a = sp5['19950103']\n",
    "d1b = sp5['1995-01-03']\n",
    "d1c = sp5[datetime(1995, 1, 3)]"
   ]
  },
  {
   "cell_type": "markdown",
   "metadata": {},
   "source": [
    "**Exercise:**\n",
    "\n",
    "Select from the `sp5` DataFrame all observations for:\n",
    "* March, 1995\n",
    "* Year of 1995"
   ]
  },
  {
   "cell_type": "code",
   "execution_count": 20,
   "metadata": {
    "collapsed": false
   },
   "outputs": [
    {
     "data": {
      "text/plain": [
       "date\n",
       "1995-03-01    485.649994\n",
       "1995-03-02    485.130005\n",
       "1995-03-03    485.420013\n",
       "1995-03-06    485.630005\n",
       "1995-03-07    482.119995\n",
       "1995-03-08    483.140015\n",
       "1995-03-09    483.160004\n",
       "1995-03-10    489.570007\n",
       "1995-03-13    490.049988\n",
       "1995-03-14    492.890015\n",
       "1995-03-15    491.880005\n",
       "1995-03-16    495.410004\n",
       "1995-03-17    495.519989\n",
       "1995-03-20    496.140015\n",
       "1995-03-21    495.070007\n",
       "1995-03-22    495.670013\n",
       "1995-03-23    495.950012\n",
       "1995-03-24    500.970001\n",
       "1995-03-27    503.200012\n",
       "1995-03-28    503.899994\n",
       "1995-03-29    503.119995\n",
       "1995-03-30    502.220001\n",
       "1995-03-31    500.709991\n",
       "Name: adj_close, dtype: float64"
      ]
     },
     "execution_count": 20,
     "metadata": {},
     "output_type": "execute_result"
    }
   ],
   "source": [
    "mar_95 = sp5['1995-03']"
   ]
  },
  {
   "cell_type": "code",
   "execution_count": 10,
   "metadata": {
    "collapsed": false
   },
   "outputs": [],
   "source": [
    "y_95 = sp5['1995']"
   ]
  },
  {
   "cell_type": "markdown",
   "metadata": {},
   "source": [
    "**Exercise**\n",
    "\n",
    "For the SP500:\n",
    "* Calculate 1-day total returns\n",
    "* Calculate the daily cumulative total return \n",
    "* Calculate weekly, monthly, yearly returns."
   ]
  },
  {
   "cell_type": "code",
   "execution_count": 11,
   "metadata": {
    "collapsed": false
   },
   "outputs": [],
   "source": [
    "sp5_rtn = sp5.pct_change().rename('rtn')"
   ]
  },
  {
   "cell_type": "code",
   "execution_count": 12,
   "metadata": {
    "collapsed": true
   },
   "outputs": [],
   "source": [
    "sp5_crtn = (1 + sp5_rtn).cumprod().rename('crtn')\n",
    "sp5_crtn.iat[0] = 1"
   ]
  },
  {
   "cell_type": "markdown",
   "metadata": {},
   "source": [
    "**Exercise:**\n",
    "\n",
    "* Calculate 1-day total returns.\n",
    "* Calculate a cumulative return index for each security.\n",
    "* Calculate weekly, monthly, yearly returns."
   ]
  },
  {
   "cell_type": "code",
   "execution_count": 13,
   "metadata": {
    "collapsed": true
   },
   "outputs": [],
   "source": [
    "# 1-day total return\n",
    "rtns = prices.pct_change()"
   ]
  },
  {
   "cell_type": "code",
   "execution_count": 14,
   "metadata": {
    "collapsed": true
   },
   "outputs": [],
   "source": [
    "# Cumulative returns\n",
    "crtns = (1. + rtns).cumprod()\n",
    "crtns.iloc[0, :] = 1"
   ]
  },
  {
   "cell_type": "code",
   "execution_count": 15,
   "metadata": {
    "collapsed": false
   },
   "outputs": [],
   "source": [
    "# Weekly, Monthly, Yearly returns\n",
    "rtn_wk = crtns.resample('W').last()\n",
    "rtn_mnth = crtns.resample('M').last()"
   ]
  },
  {
   "cell_type": "markdown",
   "metadata": {},
   "source": [
    "**Exercise:**\n",
    "\n",
    "For all securities in prices:\n",
    "\n",
    "* Calculate a 1-month and 12-month momentum signal.\n",
    "* Calculate a momentum signal of 12-month returns minus 1-month returns."
   ]
  },
  {
   "cell_type": "code",
   "execution_count": 16,
   "metadata": {
    "collapsed": true
   },
   "outputs": [],
   "source": [
    "# 1 and 12 month momentum\n",
    "rtn_m1 = crtns - crtns.shift(21)\n",
    "rtn_m12 = crtns - crtns.shift(252)\n",
    "mom_12m1 = (rtn_m12 - rtn_m1).dropna()"
   ]
  },
  {
   "cell_type": "markdown",
   "metadata": {},
   "source": [
    "**Exercise:**\n",
    "\n",
    "* Calculate the same momentum signal using `rolling`"
   ]
  },
  {
   "cell_type": "code",
   "execution_count": 17,
   "metadata": {
    "collapsed": false,
    "scrolled": true
   },
   "outputs": [],
   "source": [
    "# Lookback of 252 days, most recent minus day 21\n",
    "mom_12m1_v2 = crtns.rolling(253).apply(lambda x: x[-22] - x[0]).dropna()"
   ]
  },
  {
   "cell_type": "code",
   "execution_count": 18,
   "metadata": {
    "collapsed": false
   },
   "outputs": [],
   "source": [
    "x, y = mom_12m1.align(mom_12m1_v2, join='left')\n",
    "idx = ((x - y).abs() < 1e-8) & (x.isnull() == y.isnull())\n",
    "assert idx.all().all()"
   ]
  },
  {
   "cell_type": "code",
   "execution_count": 19,
   "metadata": {
    "collapsed": false
   },
   "outputs": [],
   "source": [
    "rng = pd.date_range('20110101', periods=72, freq='H')\n",
    "ts = pd.Series(np.random.randn(len(rng)), index=rng)"
   ]
  }
 ],
 "metadata": {
  "kernelspec": {
   "display_name": "Python 3",
   "language": "python",
   "name": "python3"
  },
  "language_info": {
   "codemirror_mode": {
    "name": "ipython",
    "version": 3
   },
   "file_extension": ".py",
   "mimetype": "text/x-python",
   "name": "python",
   "nbconvert_exporter": "python",
   "pygments_lexer": "ipython3",
   "version": "3.5.1"
  }
 },
 "nbformat": 4,
 "nbformat_minor": 0
}
