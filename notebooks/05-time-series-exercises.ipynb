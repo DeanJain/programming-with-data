{
 "cells": [
  {
   "cell_type": "markdown",
   "metadata": {},
   "source": [
    "(c) 2016 - present. Enplus Advisors, Inc."
   ]
  },
  {
   "cell_type": "markdown",
   "metadata": {},
   "source": [
    "This module uses:\n",
    "* SP500 returns\n",
    "* Security prices"
   ]
  },
  {
   "cell_type": "code",
   "execution_count": null,
   "metadata": {
    "collapsed": true
   },
   "outputs": [],
   "source": [
    "from datetime import datetime\n",
    "\n",
    "import dateutil\n",
    "import numpy as np\n",
    "import pandas as pd"
   ]
  },
  {
   "cell_type": "code",
   "execution_count": null,
   "metadata": {
    "collapsed": false
   },
   "outputs": [],
   "source": [
    "sp5_df = pd.read_csv('sp500.csv', usecols=['date', 'adj_close'])\n",
    "sp5_dts = pd.to_datetime(sp5_df.date)"
   ]
  },
  {
   "cell_type": "code",
   "execution_count": null,
   "metadata": {
    "collapsed": true
   },
   "outputs": [],
   "source": [
    "prices = pd.read_csv('prices.csv', parse_dates=['date'])\n",
    "prices = prices.set_index('date', verify_integrity=True).sort_index()"
   ]
  },
  {
   "cell_type": "markdown",
   "metadata": {},
   "source": [
    "**Exercise:**\n",
    "\n",
    "Create a `pandas` Timestamp for January 1st, 1993 4:00 PM."
   ]
  },
  {
   "cell_type": "markdown",
   "metadata": {},
   "source": [
    "**Exercise:**\n",
    "\n",
    "Generate an Index of:\n",
    "* 500 calendar days starting on January 01, 2010.\n",
    "* 1 year of US business days starting on January 01, 2010"
   ]
  },
  {
   "cell_type": "markdown",
   "metadata": {},
   "source": [
    "**Exercise:**\n",
    "\n",
    "* Create a Series from the `adj_close` column `sp5_df`, using `date` as a `DatetimeIndex`\n",
    "* Sort the index\n"
   ]
  },
  {
   "cell_type": "markdown",
   "metadata": {},
   "source": [
    "**Exercise:**\n",
    "\n",
    "Write 3 different ways to select January 2, 1995 from the `sp5` series."
   ]
  },
  {
   "cell_type": "markdown",
   "metadata": {},
   "source": [
    "**Exercise:**\n",
    "\n",
    "Select from the `sp5` DataFrame all observations for:\n",
    "* March, 1995\n",
    "* Year of 1995"
   ]
  },
  {
   "cell_type": "markdown",
   "metadata": {},
   "source": [
    "**Exercise**\n",
    "\n",
    "For the SP500:\n",
    "* Calculate 1-day total returns\n",
    "* Calculate the daily cumulative total return \n",
    "* Calculate weekly, monthly, yearly returns."
   ]
  },
  {
   "cell_type": "markdown",
   "metadata": {},
   "source": [
    "**Exercise:**\n",
    "\n",
    "For all securities in prices:\n",
    "\n",
    "* Calculate a 1-month and 12-month momentum signal.\n",
    "* Calculate a momentum signal of 12-month returns minus 1-month returns."
   ]
  },
  {
   "cell_type": "markdown",
   "metadata": {},
   "source": [
    "**Exercise:**\n",
    "\n",
    "* Calculate the same momentum signal using `rolling`"
   ]
  }
 ],
 "metadata": {
  "kernelspec": {
   "display_name": "Python 3",
   "language": "python",
   "name": "python3"
  },
  "language_info": {
   "codemirror_mode": {
    "name": "ipython",
    "version": 3
   },
   "file_extension": ".py",
   "mimetype": "text/x-python",
   "name": "python",
   "nbconvert_exporter": "python",
   "pygments_lexer": "ipython3",
   "version": "3.5.1"
  }
 },
 "nbformat": 4,
 "nbformat_minor": 0
}
