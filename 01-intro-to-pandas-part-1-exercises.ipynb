{
 "cells": [
  {
   "cell_type": "markdown",
   "metadata": {
    "tags": [
     "setup"
    ]
   },
   "source": [
    "(c) 2016 - present. Enplus Advisors, Inc."
   ]
  },
  {
   "cell_type": "code",
   "execution_count": null,
   "metadata": {
    "tags": [
     "setup"
    ]
   },
   "outputs": [],
   "source": [
    "import numpy as np\n",
    "import pandas as pd"
   ]
  },
  {
   "cell_type": "markdown",
   "metadata": {
    "tags": [
     "exercise"
    ]
   },
   "source": [
    "**Exercise:**\n",
    "\n",
    "* Create a `Series` and assign it to `s1a` from the integers 6, 8, 7, 5\n",
    "* From a `dict`, create an integer `Series` and assign it to `s1b` with values 6, 8, 7, 5 named `s1b` and a string index 'a', 'b', 'c', and 'd'\n",
    "* Convert the `s1b` values to 64-bit floating point values\n",
    "* Extract only the values from the last `Series` you created"
   ]
  },
  {
   "cell_type": "markdown",
   "metadata": {
    "tags": [
     "exercise"
    ]
   },
   "source": [
    "**Exercise:**\n",
    "\n",
    "* Select the first element of `s2` using integer indexing.\n",
    "* Select the first element of the `s2` using label indexing.\n",
    "* Select all elements greater than 6 in `s2` using boolean indexing."
   ]
  },
  {
   "cell_type": "code",
   "execution_count": null,
   "metadata": {
    "tags": [
     "exercise"
    ]
   },
   "outputs": [],
   "source": [
    "s2 = pd.Series([6, 8, 7, 5], index=list('abcd'))"
   ]
  },
  {
   "cell_type": "markdown",
   "metadata": {
    "tags": [
     "exercise"
    ]
   },
   "source": [
    "**Exercise**\n",
    "\n",
    "* Select all non-NaN values in `s3`\n",
    "* What will the result of adding `s2` and `s3` together be? \n",
    "  Figure it out on paper then check in the notebook with `s2 + s3`"
   ]
  },
  {
   "cell_type": "code",
   "execution_count": null,
   "metadata": {
    "tags": [
     "exercise"
    ]
   },
   "outputs": [],
   "source": [
    "s3 = pd.Series([9., 100., np.nan], index=list('ayz'))"
   ]
  }
 ],
 "metadata": {
  "kernelspec": {
   "display_name": "Python 3",
   "language": "python",
   "name": "python3"
  },
  "language_info": {
   "codemirror_mode": {
    "name": "ipython",
    "version": 3
   },
   "file_extension": ".py",
   "mimetype": "text/x-python",
   "name": "python",
   "nbconvert_exporter": "python",
   "pygments_lexer": "ipython3",
   "version": "3.7.3"
  }
 },
 "nbformat": 4,
 "nbformat_minor": 1
}
