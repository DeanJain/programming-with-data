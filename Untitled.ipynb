{
 "cells": [
  {
   "cell_type": "code",
   "execution_count": 1,
   "metadata": {
    "pycharm": {
     "is_executing": false
    }
   },
   "outputs": [],
   "source": [
    "from itertools import chain\n",
    "\n",
    "import nbformat\n",
    "from nbconvert import NotebookExporter\n",
    "from nbconvert.preprocessors import Preprocessor\n",
    "from traitlets.config import Config"
   ]
  },
  {
   "cell_type": "code",
   "execution_count": 2,
   "metadata": {
    "pycharm": {
     "is_executing": false
    }
   },
   "outputs": [],
   "source": [
    "nb = nbformat.read('04-merge-pivot-answers.ipynb', as_version=nbformat.NO_CONVERT)"
   ]
  },
  {
   "cell_type": "code",
   "execution_count": 3,
   "metadata": {
    "pycharm": {
     "is_executing": false
    }
   },
   "outputs": [],
   "source": [
    "def all_tags(nb):\n",
    "    res = set()\n",
    "    for cell in nb.cells:\n",
    "        tags = cell.metadata.get('tags')\n",
    "        if tags:\n",
    "            for tag in tags:\n",
    "                res.add(tag)\n",
    "    res"
   ]
  },
  {
   "cell_type": "code",
   "execution_count": 4,
   "metadata": {
    "pycharm": {}
   },
   "outputs": [],
   "source": [
    "class Exercise(Preprocessor):\n",
    "    \"\"\"A \"\"\"\n",
    "    keep_tags = ('setup', 'exercise')\n",
    "    \n",
    "    def preprocess(self, nb, resources):\n",
    "        cells = []\n",
    "        for cell in nb.cells:\n",
    "            tags = cell.metadata.get('tags', tuple())\n",
    "            \n",
    "            if any(tag in self.keep_tags for tag in tags):\n",
    "                cell.execution_count = None\n",
    "                cell.outputs = []\n",
    "                cells.append(cell)\n",
    "        \n",
    "        nb.cells = cells\n",
    "        return nb, resources\n",
    "        "
   ]
  },
  {
   "cell_type": "code",
   "execution_count": 5,
   "metadata": {
    "pycharm": {}
   },
   "outputs": [],
   "source": [
    "exporter = NotebookExporter()\n",
    "body, resources = exporter.from_notebook_node(nb)"
   ]
  },
  {
   "cell_type": "code",
   "execution_count": 6,
   "metadata": {
    "pycharm": {}
   },
   "outputs": [
    {
     "data": {
      "text/plain": [
       "[__main__.Exercise]"
      ]
     },
     "execution_count": 6,
     "metadata": {},
     "output_type": "execute_result"
    }
   ],
   "source": [
    "c = Config()\n",
    "c.NotebookExporter.preprocessors = [Exercise]\n",
    "exercise_exporter = NotebookExporter(config=c)\n",
    "exercise_exporter.preprocessors"
   ]
  },
  {
   "cell_type": "code",
   "execution_count": 7,
   "metadata": {
    "pycharm": {}
   },
   "outputs": [],
   "source": [
    "body2, res2 = exercise_exporter.from_notebook_node(nb)"
   ]
  },
  {
   "cell_type": "code",
   "execution_count": 8,
   "metadata": {
    "pycharm": {},
    "scrolled": true
   },
   "outputs": [
    {
     "data": {
      "text/plain": [
       "[{'cell_type': 'code',\n",
       "  'execution_count': None,\n",
       "  'metadata': {'tags': ['setup']},\n",
       "  'outputs': [],\n",
       "  'source': \"import io\\n\\nimport numpy as np\\nimport pandas as pd\\n\\npd.set_option('precision', 2)\"},\n",
       " {'cell_type': 'code',\n",
       "  'execution_count': None,\n",
       "  'metadata': {'tags': ['setup']},\n",
       "  'outputs': [],\n",
       "  'source': \"prc = pd.read_csv(\\n    io.StringIO('ticker,open,date,close\\\\nAAPL,426.23,2018-01-04,435.23\\\\nMSFT,42.3,2018-01-04,51.3\\\\nAAPL,436.23,2018-01-05,\\\\nMSFT,52.3,2018-01-05,\\\\n'),\\n    parse_dates=['date']\\n)\\nprc2 = prc.assign(\\n    date=pd.to_datetime('2018-01-06'),\\n    open=prc.open + np.random.randn(len(prc.open)),\\n    close=prc.open + np.random.randn(len(prc.open))\\n)\"},\n",
       " {'cell_type': 'code',\n",
       "  'execution_count': None,\n",
       "  'metadata': {'tags': ['setup']},\n",
       "  'outputs': [],\n",
       "  'source': \"volume = pd.DataFrame({\\n    'ticker': ['AAPL', 'MSFT', 'IBM', 'YHOO', 'GOOG'],\\n    'volume': [1954.73,  335.83,  362.79,  858.18,  629.79]\\n}).assign(date=pd.to_datetime('2018-01-05'))\\n\"},\n",
       " {'cell_type': 'markdown',\n",
       "  'execution_count': None,\n",
       "  'metadata': {'tags': ['exercise']},\n",
       "  'outputs': [],\n",
       "  'source': '**Exercise**\\n\\nMerge `prc` and `volume`:\\n\\n* Preserving only the records with common `ticker`s and `date`s\\n* Preserving all the records in `prc`\\n* Preserving the records in both `prc` and `volume`\\n\\n_All of these merges should be performed on `ticker` and `date`_'},\n",
       " {'cell_type': 'markdown',\n",
       "  'execution_count': None,\n",
       "  'metadata': {'tags': ['exercise']},\n",
       "  'outputs': [],\n",
       "  'source': '**Exercise:**\\n\\n* Append `prc2` to `prc`, making sure the index is not repeated'}]"
      ]
     },
     "execution_count": 8,
     "metadata": {},
     "output_type": "execute_result"
    }
   ],
   "source": [
    "nb2 = nbformat.reads(body2, 4)\n",
    "nb2.cells"
   ]
  },
  {
   "cell_type": "code",
   "execution_count": 9,
   "metadata": {
    "pycharm": {}
   },
   "outputs": [],
   "source": [
    "# nb3 = nbformat.read('04-merge-pivot-exercises.ipynb', as_version=nbformat.NO_CONVERT)"
   ]
  },
  {
   "cell_type": "code",
   "execution_count": 10,
   "metadata": {
    "pycharm": {}
   },
   "outputs": [],
   "source": [
    "# nb3"
   ]
  },
  {
   "cell_type": "code",
   "execution_count": 11,
   "metadata": {},
   "outputs": [
    {
     "name": "stdout",
     "output_type": "stream",
     "text": [
      "{'celltoolbar': 'Tags',\n",
      " 'kernelspec': {'display_name': 'Python 3',\n",
      "                'language': 'python',\n",
      "                'name': 'python3'},\n",
      " 'language_info': {'codemirror_mode': {'name': 'ipython', 'version': 3},\n",
      "                   'file_extension': '.py',\n",
      "                   'mimetype': 'text/x-python',\n",
      "                   'name': 'python',\n",
      "                   'nbconvert_exporter': 'python',\n",
      "                   'pygments_lexer': 'ipython3',\n",
      "                   'version': '3.7.3'},\n",
      " 'toc': {'base_numbering': 1,\n",
      "         'nav_menu': {},\n",
      "         'number_sections': False,\n",
      "         'sideBar': True,\n",
      "         'skip_h1_title': True,\n",
      "         'title_cell': 'Table of Contents',\n",
      "         'title_sidebar': 'Contents',\n",
      "         'toc_cell': False,\n",
      "         'toc_position': {},\n",
      "         'toc_section_display': True,\n",
      "         'toc_window_display': False}}\n"
     ]
    }
   ],
   "source": [
    "from pprint import pprint\n",
    "pprint(nb.metadata)"
   ]
  }
 ],
 "metadata": {
  "kernelspec": {
   "display_name": "Python 3",
   "language": "python",
   "name": "python3"
  },
  "language_info": {
   "codemirror_mode": {
    "name": "ipython",
    "version": 3
   },
   "file_extension": ".py",
   "mimetype": "text/x-python",
   "name": "python",
   "nbconvert_exporter": "python",
   "pygments_lexer": "ipython3",
   "version": "3.7.3"
  },
  "toc": {
   "base_numbering": 1,
   "nav_menu": {},
   "number_sections": false,
   "sideBar": true,
   "skip_h1_title": true,
   "title_cell": "Table of Contents",
   "title_sidebar": "Contents",
   "toc_cell": false,
   "toc_position": {},
   "toc_section_display": true,
   "toc_window_display": false
  }
 },
 "nbformat": 4,
 "nbformat_minor": 2
}
